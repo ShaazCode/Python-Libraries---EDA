{
  "nbformat": 4,
  "nbformat_minor": 0,
  "metadata": {
    "colab": {
      "provenance": [],
      "authorship_tag": "ABX9TyNp2e1qhq4/SFcXTNz+AxfO",
      "include_colab_link": true
    },
    "kernelspec": {
      "name": "python3",
      "display_name": "Python 3"
    },
    "language_info": {
      "name": "python"
    }
  },
  "cells": [
    {
      "cell_type": "markdown",
      "metadata": {
        "id": "view-in-github",
        "colab_type": "text"
      },
      "source": [
        "<a href=\"https://colab.research.google.com/github/ShaazCode/Python-Libraries---EDA/blob/main/Introduction_to_Python_Library%26EDA.ipynb\" target=\"_parent\"><img src=\"https://colab.research.google.com/assets/colab-badge.svg\" alt=\"Open In Colab\"/></a>"
      ]
    },
    {
      "cell_type": "code",
      "source": [
        "# connection code of google colab with githubs"
      ],
      "metadata": {
        "id": "gW2xGO1b18iM"
      },
      "execution_count": null,
      "outputs": []
    },
    {
      "cell_type": "code",
      "execution_count": null,
      "metadata": {
        "id": "Gu5oL-Lr1AZ1"
      },
      "outputs": [],
      "source": [
        "from google.colab import auth\n",
        "auth.authenticate_user()\n"
      ]
    },
    {
      "cell_type": "code",
      "source": [
        "!git config --global user.name \"ShaazCode\"\n"
      ],
      "metadata": {
        "id": "4hU5LBM_1Fj_"
      },
      "execution_count": null,
      "outputs": []
    },
    {
      "cell_type": "code",
      "source": [
        "!git config --global user.email \"shaaz.code@gmail.com\"\n"
      ],
      "metadata": {
        "id": "wPOdXhBl1LCk"
      },
      "execution_count": null,
      "outputs": []
    },
    {
      "cell_type": "code",
      "source": [
        "!git clone https://github.com/ShaazCode/Python-Libraries---EDA.git"
      ],
      "metadata": {
        "colab": {
          "base_uri": "https://localhost:8080/"
        },
        "id": "36mrayRF1VnI",
        "outputId": "85cb5018-63c6-4ef4-9f9c-5ab466433392"
      },
      "execution_count": null,
      "outputs": [
        {
          "output_type": "stream",
          "name": "stdout",
          "text": [
            "Cloning into 'Python-Libraries---EDA'...\n",
            "warning: You appear to have cloned an empty repository.\n"
          ]
        }
      ]
    },
    {
      "cell_type": "code",
      "source": [
        "print(\"Hello World\")"
      ],
      "metadata": {
        "id": "57Pm15-D1cVJ",
        "outputId": "e5102973-39dd-4976-8708-21e2b4d6b386",
        "colab": {
          "base_uri": "https://localhost:8080/"
        }
      },
      "execution_count": null,
      "outputs": [
        {
          "output_type": "stream",
          "name": "stdout",
          "text": [
            "Hello World\n"
          ]
        }
      ]
    },
    {
      "cell_type": "markdown",
      "source": [
        "## **Python Libraries**"
      ],
      "metadata": {
        "id": "QMHri1Aa3Ss_"
      }
    },
    {
      "cell_type": "markdown",
      "source": [
        "**Theory**\n",
        "A Python library is a collection of pre-written code like function, classes, modules so whenever we need we dont want to rewrite the code\n",
        "A python library is a ready made tools, instead of write the code we can just make use of it."
      ],
      "metadata": {
        "id": "YT_ifL1T3kB5"
      }
    },
    {
      "cell_type": "markdown",
      "source": [
        "Why we use?\n",
        "\n",
        "\n",
        "1.   Save Time: Instead of writing the code from scratch we can just import the tested library\n",
        "2.   Increased-Producity: Focused on logic building, instead on focusing the low level implementation\n",
        "3. Abstraction: Hide the complexity the actual implementation\n",
        "4. Interoperability — libraries work together (Pandas ↔ NumPy ↔ Matplotlib) for end-to-end workflows.\n",
        "\n"
      ],
      "metadata": {
        "id": "bcxMWnOD4PBn"
      }
    },
    {
      "cell_type": "markdown",
      "source": [
        "Data arrays: import numpy as np # fast numeric arrays & vectorized ops\n",
        "Dataframes/EDA: import pandas as pd # table operations, groupby, missing data"
      ],
      "metadata": {
        "id": "ZznA3JPJ7Cbb"
      }
    },
    {
      "cell_type": "markdown",
      "source": [
        "## **Core Library**"
      ],
      "metadata": {
        "id": "pbf97yRI6LsH"
      }
    },
    {
      "cell_type": "markdown",
      "source": [
        "1. **NumPy**\n",
        "2. **Pandas**\n",
        "\n",
        "(Machine Learning)\n",
        "\n",
        "3. Scikit-learn\n",
        "4. TensorFlow\n",
        "5. Keras\n",
        "6. PyTorch\n"
      ],
      "metadata": {
        "id": "K5jYehI-6TUQ"
      }
    },
    {
      "cell_type": "markdown",
      "source": [
        "## Data Visualization"
      ],
      "metadata": {
        "id": "iSwJPoN26eLH"
      }
    },
    {
      "cell_type": "markdown",
      "source": [
        "1. Matplotlib\n",
        "2. Seaborn\n",
        "3. Plotly"
      ],
      "metadata": {
        "id": "9NpCFrrs6w-W"
      }
    },
    {
      "cell_type": "markdown",
      "source": [
        "## NLP Specific"
      ],
      "metadata": {
        "id": "eDwe02Pu7HFt"
      }
    },
    {
      "cell_type": "markdown",
      "source": [
        "1. NLTK\n",
        "2. SpaCy\n",
        "3. Gensim\n",
        "4. Transformers (HuggingFace)"
      ],
      "metadata": {
        "id": "n3y4bu8g7Psx"
      }
    },
    {
      "cell_type": "markdown",
      "source": [
        "## Computer Vision"
      ],
      "metadata": {
        "id": "GV7un6Pu7da-"
      }
    },
    {
      "cell_type": "markdown",
      "source": [
        "1. OpenCV\n",
        "2. Pillow (PIL)"
      ],
      "metadata": {
        "id": "jZCKmUqM7ifO"
      }
    },
    {
      "cell_type": "markdown",
      "source": [
        "## EDA (Exploratory Data Analysis)"
      ],
      "metadata": {
        "id": "rt2EfQl38Lwq"
      }
    },
    {
      "cell_type": "markdown",
      "source": [
        "Importing data\n",
        "\n",
        "Data overview (shape, head, tail)\n",
        "\n",
        "Data types\n",
        "\n",
        "Missing values check\n",
        "\n",
        "Duplicate values check\n",
        "\n",
        "Descriptive statistics (describe)\n",
        "\n",
        "Unique values / value counts\n",
        "\n",
        "Correlation analysis\n",
        "\n",
        "Distribution analysis (histograms)\n",
        "\n",
        "Outlier detection (boxplots)\n",
        "\n",
        "Categorical vs Numerical separation\n",
        "\n",
        "Groupby analysis\n",
        "\n",
        "Cross-tabulation\n",
        "\n",
        "Pair plots\n",
        "\n",
        "Heatmaps\n",
        "\n",
        "Feature relationships\n",
        "\n",
        "Skewness & kurtosis\n",
        "\n",
        "Normality check\n",
        "\n",
        "Data cleaning (null/duplicates/outliers handling)\n",
        "\n",
        "Encoding categorical variables\n",
        "\n",
        "Scaling numerical variables"
      ],
      "metadata": {
        "id": "5LeyhGm_8QRF"
      }
    },
    {
      "cell_type": "code",
      "source": [],
      "metadata": {
        "id": "c0U55jLt6pAD"
      },
      "execution_count": null,
      "outputs": []
    }
  ]
}