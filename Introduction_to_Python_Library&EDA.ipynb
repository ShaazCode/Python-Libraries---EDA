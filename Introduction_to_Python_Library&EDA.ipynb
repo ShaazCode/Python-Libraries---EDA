{
  "nbformat": 4,
  "nbformat_minor": 0,
  "metadata": {
    "colab": {
      "provenance": [],
      "authorship_tag": "ABX9TyPw++TUpOyvpprbsTIdPFjo",
      "include_colab_link": true
    },
    "kernelspec": {
      "name": "python3",
      "display_name": "Python 3"
    },
    "language_info": {
      "name": "python"
    }
  },
  "cells": [
    {
      "cell_type": "markdown",
      "metadata": {
        "id": "view-in-github",
        "colab_type": "text"
      },
      "source": [
        "<a href=\"https://colab.research.google.com/github/ShaazCode/Python-Libraries---EDA/blob/main/Introduction_to_Python_Library%26EDA.ipynb\" target=\"_parent\"><img src=\"https://colab.research.google.com/assets/colab-badge.svg\" alt=\"Open In Colab\"/></a>"
      ]
    },
    {
      "cell_type": "code",
      "source": [
        "# connection code of google colab with githubs"
      ],
      "metadata": {
        "id": "gW2xGO1b18iM"
      },
      "execution_count": null,
      "outputs": []
    },
    {
      "cell_type": "code",
      "execution_count": null,
      "metadata": {
        "id": "Gu5oL-Lr1AZ1"
      },
      "outputs": [],
      "source": [
        "from google.colab import auth\n",
        "auth.authenticate_user()\n"
      ]
    },
    {
      "cell_type": "code",
      "source": [
        "!git config --global user.name \"ShaazCode\"\n"
      ],
      "metadata": {
        "id": "4hU5LBM_1Fj_"
      },
      "execution_count": null,
      "outputs": []
    },
    {
      "cell_type": "code",
      "source": [
        "!git config --global user.email \"shaaz.code@gmail.com\"\n"
      ],
      "metadata": {
        "id": "wPOdXhBl1LCk"
      },
      "execution_count": null,
      "outputs": []
    },
    {
      "cell_type": "code",
      "source": [
        "!git clone https://github.com/ShaazCode/Python-Libraries---EDA.git"
      ],
      "metadata": {
        "colab": {
          "base_uri": "https://localhost:8080/"
        },
        "id": "36mrayRF1VnI",
        "outputId": "85cb5018-63c6-4ef4-9f9c-5ab466433392"
      },
      "execution_count": null,
      "outputs": [
        {
          "output_type": "stream",
          "name": "stdout",
          "text": [
            "Cloning into 'Python-Libraries---EDA'...\n",
            "warning: You appear to have cloned an empty repository.\n"
          ]
        }
      ]
    },
    {
      "cell_type": "code",
      "source": [
        "print(\"Hello World\")"
      ],
      "metadata": {
        "id": "57Pm15-D1cVJ",
        "outputId": "e5102973-39dd-4976-8708-21e2b4d6b386",
        "colab": {
          "base_uri": "https://localhost:8080/"
        }
      },
      "execution_count": null,
      "outputs": [
        {
          "output_type": "stream",
          "name": "stdout",
          "text": [
            "Hello World\n"
          ]
        }
      ]
    },
    {
      "cell_type": "markdown",
      "source": [
        "## **Python Libraries**"
      ],
      "metadata": {
        "id": "QMHri1Aa3Ss_"
      }
    },
    {
      "cell_type": "markdown",
      "source": [
        "**Theory**\n",
        "A Python library is a collection of pre-written code like function, classes, modules so whenever we need we dont want to rewrite the code\n",
        "A python library is a ready made tools, instead of write the code we can just make use of it."
      ],
      "metadata": {
        "id": "YT_ifL1T3kB5"
      }
    },
    {
      "cell_type": "markdown",
      "source": [
        "Why we use?\n",
        "\n",
        "\n",
        "1.   Save Time: Instead of writing the code from scratch we can just import the tested library\n",
        "2.   Increased-Producity: Focused on logic building, instead on focusing the low level implementation\n",
        "3. Abstraction: Hide the complexity the actual implementation\n",
        "4. Interoperability — libraries work together (Pandas ↔ NumPy ↔ Matplotlib) for end-to-end workflows.\n",
        "\n"
      ],
      "metadata": {
        "id": "bcxMWnOD4PBn"
      }
    },
    {
      "cell_type": "code",
      "source": [],
      "metadata": {
        "id": "eRarblVx49Ew"
      },
      "execution_count": null,
      "outputs": []
    }
  ]
}