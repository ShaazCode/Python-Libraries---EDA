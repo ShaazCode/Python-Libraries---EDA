{
  "nbformat": 4,
  "nbformat_minor": 0,
  "metadata": {
    "colab": {
      "provenance": [],
      "authorship_tag": "ABX9TyPJlqEUb/rmE+RhU/XjGax8",
      "include_colab_link": true
    },
    "kernelspec": {
      "name": "python3",
      "display_name": "Python 3"
    },
    "language_info": {
      "name": "python"
    }
  },
  "cells": [
    {
      "cell_type": "markdown",
      "metadata": {
        "id": "view-in-github",
        "colab_type": "text"
      },
      "source": [
        "<a href=\"https://colab.research.google.com/github/ShaazCode/Python-Libraries---EDA/blob/main/Numpy.ipynb\" target=\"_parent\"><img src=\"https://colab.research.google.com/assets/colab-badge.svg\" alt=\"Open In Colab\"/></a>"
      ]
    },
    {
      "cell_type": "markdown",
      "source": [
        "## Numpy - Introduction"
      ],
      "metadata": {
        "id": "Gent9V6VKRLC"
      }
    },
    {
      "cell_type": "markdown",
      "source": [
        "Numpy stands for Numerical Python\n",
        "\n",
        "We make use of numpy because it makes number calculation super fast, simple and perfect.\n",
        "Numpy is used to work with the array of numbers\n",
        "\n",
        "To work with large amounts of numbers easily and quickly.\n",
        "Python lists are slow. NumPy arrays are much faster and take less memory.\n",
        "\n",
        "Why we use array?  (array store the value of similar data types)\n",
        "\n",
        "1. Fast\n",
        "2. Memory efficient: Stores the number in compact array not in list\n",
        "3. vectorized: do match on entire array at once (no loops)\n",
        "4. interoperable: it can be used by any another library also\n",
        "5. Powerful tools — linear algebra, random numbers, Fourier transforms, statistics."
      ],
      "metadata": {
        "id": "n_XjL4hRKXLO"
      }
    },
    {
      "cell_type": "markdown",
      "source": [
        "## Core Properties"
      ],
      "metadata": {
        "id": "0ygznJO0MtsY"
      }
    },
    {
      "cell_type": "markdown",
      "source": [
        "n-darray:  (1D, 2D , 3D, n-d)\n",
        "All element have similar data types\n",
        "Main properties: .shape, .ndim , .size, .dtype"
      ],
      "metadata": {
        "id": "1s6kaPtHMv7j"
      }
    },
    {
      "cell_type": "code",
      "execution_count": null,
      "metadata": {
        "colab": {
          "base_uri": "https://localhost:8080/"
        },
        "id": "EkGpGhHcKO1J",
        "outputId": "8dfb3a73-e1e6-4b5d-89f5-25c926ce1ed7"
      },
      "outputs": [
        {
          "output_type": "stream",
          "name": "stdout",
          "text": [
            "[10 20 30 40 50]\n"
          ]
        }
      ],
      "source": [
        "import numpy as np #importing the numpy library and np is an object of an numpy library\n",
        "\n",
        "a = [10,20,30,40,50]\n",
        "\n",
        "# np.array() : this convert list into array\n",
        "\n",
        "num = np.array(a)  #array is an builtin function whereas np is an object and num is an variable that will store np.array(a)\n",
        "print(num)  #printing the value"
      ]
    },
    {
      "cell_type": "markdown",
      "source": [
        "## 1-D Array"
      ],
      "metadata": {
        "id": "9BJeZA8fOkpt"
      }
    },
    {
      "cell_type": "markdown",
      "source": [
        "1-D array is a list of a numbers, like a rows of values"
      ],
      "metadata": {
        "id": "0kk45HFaOnvJ"
      }
    },
    {
      "cell_type": "code",
      "source": [
        "a = [10,20,30,40,50]\n",
        "num = np.array(a)\n",
        "print(num)"
      ],
      "metadata": {
        "colab": {
          "base_uri": "https://localhost:8080/"
        },
        "id": "8sHK4ne0Ovqs",
        "outputId": "6728d89a-54a7-4525-f805-d7ac636ef8fd"
      },
      "execution_count": null,
      "outputs": [
        {
          "output_type": "stream",
          "name": "stdout",
          "text": [
            "[10 20 30 40 50]\n"
          ]
        }
      ]
    },
    {
      "cell_type": "markdown",
      "source": [
        "## 2-D Array"
      ],
      "metadata": {
        "id": "QPQ7eQ_TO6AP"
      }
    },
    {
      "cell_type": "markdown",
      "source": [
        "2D array is like a table or matrix with rows and columns"
      ],
      "metadata": {
        "id": "jDZyhutAO8lw"
      }
    },
    {
      "cell_type": "code",
      "source": [
        "# 2d array is a collection of rows and column so we just have to create the rows and column and at the start we have to strating brackets and at the end and each rows are seperated by comma\n",
        "d2 = [[10,20,30],\n",
        "      [40,50,60],\n",
        "      [70,80,90]]\n",
        "d2_array = np.array(d2)\n",
        "print(d2_array)"
      ],
      "metadata": {
        "colab": {
          "base_uri": "https://localhost:8080/"
        },
        "id": "VPRJgB8BPr_Q",
        "outputId": "10fa5f0a-ec5b-4ef6-f50f-370b138d780c"
      },
      "execution_count": null,
      "outputs": [
        {
          "output_type": "stream",
          "name": "stdout",
          "text": [
            "[[10 20 30]\n",
            " [40 50 60]\n",
            " [70 80 90]]\n"
          ]
        }
      ]
    },
    {
      "cell_type": "markdown",
      "source": [
        "## 3-Dimensional Array"
      ],
      "metadata": {
        "id": "NbUig3LURAO-"
      }
    },
    {
      "cell_type": "markdown",
      "source": [
        "3 Dimensioanl array means multiple table stacked(group) together"
      ],
      "metadata": {
        "id": "d0mJX-EUREWI"
      }
    },
    {
      "cell_type": "code",
      "source": [
        " # 2 stacked table\n",
        "d3 = ([[[10,20,30],\n",
        "      [40,50,60]],\n",
        "\n",
        "      [[70,80,90],\n",
        "      [11,22,33]]])\n",
        "\n",
        "d3_array = np.array(d3)\n",
        "print(d3_array)"
      ],
      "metadata": {
        "colab": {
          "base_uri": "https://localhost:8080/"
        },
        "id": "LImlF69ORLGI",
        "outputId": "871c4aed-f432-41a0-8079-51c35d686df1"
      },
      "execution_count": null,
      "outputs": [
        {
          "output_type": "stream",
          "name": "stdout",
          "text": [
            "[[[10 20 30]\n",
            "  [40 50 60]]\n",
            "\n",
            " [[70 80 90]\n",
            "  [11 22 33]]]\n"
          ]
        }
      ]
    },
    {
      "cell_type": "code",
      "source": [
        "# 3 stacked table\n",
        "\n",
        "d3d = ([[[1,2,3],\n",
        "      [4,5,6]],\n",
        "\n",
        "      [[7,8,9],\n",
        "      [10,11,12]],\n",
        "\n",
        "      [[13,14,15],\n",
        "      [16,17,18]]])\n",
        "d3d_array = np.array(d3d)\n",
        "print(d3d_array)"
      ],
      "metadata": {
        "colab": {
          "base_uri": "https://localhost:8080/"
        },
        "id": "xw-deFU7SIwO",
        "outputId": "1c757fcf-65e9-4f3c-ae4d-e636ce348311"
      },
      "execution_count": null,
      "outputs": [
        {
          "output_type": "stream",
          "name": "stdout",
          "text": [
            "[[[ 1  2  3]\n",
            "  [ 4  5  6]]\n",
            "\n",
            " [[ 7  8  9]\n",
            "  [10 11 12]]\n",
            "\n",
            " [[13 14 15]\n",
            "  [16 17 18]]]\n"
          ]
        }
      ]
    },
    {
      "cell_type": "markdown",
      "source": [
        "# **Array creation operations**"
      ],
      "metadata": {
        "id": "fGII89SRTfBZ"
      }
    },
    {
      "cell_type": "markdown",
      "source": [
        "Array creation is the first step in numpy , once we had created the array so we can perform the math operation , indexing operation and reshaping operation on it.\n",
        "\n",
        "1. np.array()\n",
        "\n",
        "2. np.zeros()\n",
        "\n",
        "3. np.ones()\n",
        "\n",
        "4. np.arange()\n",
        "\n",
        "5. np.linspace()\n",
        "\n",
        "6. np.eye()\n",
        "\n",
        "7. np.random.rand()\n",
        "\n",
        "8. np.random.randint()"
      ],
      "metadata": {
        "id": "sKiRlomfTj88"
      }
    },
    {
      "cell_type": "markdown",
      "source": [
        "1. np.array() : This convert python list into array"
      ],
      "metadata": {
        "id": "zoplZwP1UgaB"
      }
    },
    {
      "cell_type": "code",
      "source": [
        "import numpy as np #importing the numpy library and np is an object of an numpy library\n",
        "\n",
        "a = [10,20,30,40,50]\n",
        "\n",
        "# np.array() : this convert list into array\n",
        "\n",
        "num = np.array(a)  #array is an builtin function whereas np is an object and num is an variable that will store np.array(a)\n",
        "print(num)  #printing the value"
      ],
      "metadata": {
        "colab": {
          "base_uri": "https://localhost:8080/"
        },
        "id": "mA_S_0HkT3qt",
        "outputId": "10319371-ead9-4372-9039-a8df4cfe162a"
      },
      "execution_count": null,
      "outputs": [
        {
          "output_type": "stream",
          "name": "stdout",
          "text": [
            "[10 20 30 40 50]\n"
          ]
        }
      ]
    },
    {
      "cell_type": "markdown",
      "source": [
        "2. np.zeros(): Create an array with zeros"
      ],
      "metadata": {
        "id": "l8peNrmsUnVC"
      }
    },
    {
      "cell_type": "code",
      "source": [
        "zero_array = np.zeros(5)  # 1-D array\n",
        "print(zero_array)\n"
      ],
      "metadata": {
        "colab": {
          "base_uri": "https://localhost:8080/"
        },
        "id": "dcezzAYWUvbl",
        "outputId": "07e108d1-2606-4522-9e45-c3b28a20b7a7"
      },
      "execution_count": null,
      "outputs": [
        {
          "output_type": "stream",
          "name": "stdout",
          "text": [
            "[0. 0. 0. 0. 0.]\n"
          ]
        }
      ]
    },
    {
      "cell_type": "code",
      "source": [
        "# zero with rows and columns\n",
        "zero_array = np.zeros((2,3))\n",
        "#np.zeros()it takes 2 parameter rows and column\n",
        "# np.zeros((rows, column))\n",
        "print(zero_array)\n"
      ],
      "metadata": {
        "colab": {
          "base_uri": "https://localhost:8080/"
        },
        "id": "FJNy-25BU-fx",
        "outputId": "461a134b-3c59-48f3-ed5b-555c49ccfc80"
      },
      "execution_count": null,
      "outputs": [
        {
          "output_type": "stream",
          "name": "stdout",
          "text": [
            "[[0. 0. 0.]\n",
            " [0. 0. 0.]]\n"
          ]
        }
      ]
    },
    {
      "cell_type": "markdown",
      "source": [
        "### 3. np.ones(): Create an array with ones"
      ],
      "metadata": {
        "id": "mHj-34UXd0kt"
      }
    },
    {
      "cell_type": "code",
      "source": [
        "zeros_array = np.ones(5)\n",
        "print(zeros_array)"
      ],
      "metadata": {
        "colab": {
          "base_uri": "https://localhost:8080/"
        },
        "id": "kBqpBFfMeNko",
        "outputId": "fb1f0f76-6b9a-48e0-aad7-4d362e80c4d7"
      },
      "execution_count": null,
      "outputs": [
        {
          "output_type": "stream",
          "name": "stdout",
          "text": [
            "[1. 1. 1. 1. 1.]\n"
          ]
        }
      ]
    },
    {
      "cell_type": "code",
      "source": [
        "zeros_array = np.ones((2,3))\n",
        "print(zeros_array)"
      ],
      "metadata": {
        "colab": {
          "base_uri": "https://localhost:8080/"
        },
        "id": "tK2D-mf9d-V1",
        "outputId": "15438487-0aa9-408c-bb7f-a5305ea3378a"
      },
      "execution_count": null,
      "outputs": [
        {
          "output_type": "stream",
          "name": "stdout",
          "text": [
            "[[1. 1. 1.]\n",
            " [1. 1. 1.]]\n"
          ]
        }
      ]
    },
    {
      "cell_type": "markdown",
      "source": [
        "### 4. np.arange(): It create an array with range (evenly spcified numbers)"
      ],
      "metadata": {
        "id": "_wF36gSTfBIj"
      }
    },
    {
      "cell_type": "code",
      "source": [
        "# arange\n",
        "arange_array = np.arange(0 , 10, 2)\n",
        "# np.arange(start, stop , step)\n",
        "# np.arange() functions takes 3 parameter, from where to start , till where to run and the space\n",
        "print(arange_array)"
      ],
      "metadata": {
        "colab": {
          "base_uri": "https://localhost:8080/"
        },
        "id": "vGow14ADe4ej",
        "outputId": "58025e32-380d-4e95-cb49-f6603a3f2e29"
      },
      "execution_count": null,
      "outputs": [
        {
          "output_type": "stream",
          "name": "stdout",
          "text": [
            "[0 2 4 6 8]\n"
          ]
        }
      ]
    },
    {
      "cell_type": "markdown",
      "source": [
        "5. np.random().rand(): Basically it will create an array of random numbersbetween 0 to 1"
      ],
      "metadata": {
        "id": "gCzY5UySgS1S"
      }
    },
    {
      "cell_type": "code",
      "source": [
        "# Generate random number in range 100\n",
        "arr = np.random.randint(100)  # it will generate only one random number inbetween 1 to 100\n",
        "print(arr)\n"
      ],
      "metadata": {
        "colab": {
          "base_uri": "https://localhost:8080/"
        },
        "id": "dz-YzqjTgF5p",
        "outputId": "954e1176-6ca7-40c1-fce1-899468e9a215"
      },
      "execution_count": null,
      "outputs": [
        {
          "output_type": "stream",
          "name": "stdout",
          "text": [
            "84\n"
          ]
        }
      ]
    },
    {
      "cell_type": "code",
      "source": [
        "# Generate random number in range 100\n",
        "# np.random.randint() it takes 3 parameter (start -> End -> how many value to generate)\n",
        "arr = np.random.randint(1, 100, 5)  # 5 random integers from 1 to 100\n",
        "print(arr)\n"
      ],
      "metadata": {
        "colab": {
          "base_uri": "https://localhost:8080/"
        },
        "id": "FqOC9UIJhUhO",
        "outputId": "3bce351b-cfc7-47df-f920-f85f92d87d26"
      },
      "execution_count": null,
      "outputs": [
        {
          "output_type": "stream",
          "name": "stdout",
          "text": [
            "[57 76 60 67 11]\n"
          ]
        }
      ]
    },
    {
      "cell_type": "markdown",
      "source": [
        "# **Arithematic operations on array**"
      ],
      "metadata": {
        "id": "9GV6xkg0iNEt"
      }
    },
    {
      "cell_type": "markdown",
      "source": [
        "Arithematic operations are:\n",
        "\n",
        "addition (used to add) +\n",
        "\n",
        "subtraction (used to substact) -\n",
        "\n",
        "multiplication (used to multiply) *\n",
        "\n",
        "division (used to divide) /\n",
        "\n",
        "power (used to find square) **\n",
        "\n",
        "modulo (return the remainder) %"
      ],
      "metadata": {
        "id": "UjPwdTQDiS7S"
      }
    },
    {
      "cell_type": "code",
      "source": [
        "# addition\n",
        "import numpy as np\n",
        "\n",
        "a = np.array([1, 2, 3])\n",
        "b = np.array([4, 5, 6])\n",
        "# 1+4\n",
        "# 2+5\n",
        "# 3+6\n",
        "\n",
        "print(a + b)\n"
      ],
      "metadata": {
        "colab": {
          "base_uri": "https://localhost:8080/"
        },
        "id": "AzJw95l7iunY",
        "outputId": "bb1124a8-90a7-4344-f8db-c31c0b89f1b2"
      },
      "execution_count": null,
      "outputs": [
        {
          "output_type": "stream",
          "name": "stdout",
          "text": [
            "[5 7 9]\n"
          ]
        }
      ]
    },
    {
      "cell_type": "code",
      "source": [
        "# Substraction\n",
        "print(a-b)"
      ],
      "metadata": {
        "colab": {
          "base_uri": "https://localhost:8080/"
        },
        "id": "2aP8-J3rjbiJ",
        "outputId": "67a4f233-90a7-49fc-caf5-7a0388e2ebcb"
      },
      "execution_count": null,
      "outputs": [
        {
          "output_type": "stream",
          "name": "stdout",
          "text": [
            "[-3 -3 -3]\n"
          ]
        }
      ]
    },
    {
      "cell_type": "code",
      "source": [
        "# Multiplication\n",
        "print(a*b)"
      ],
      "metadata": {
        "colab": {
          "base_uri": "https://localhost:8080/"
        },
        "id": "ihPCKnuKjlqp",
        "outputId": "988ca2c8-802d-432b-ec3d-996a7e57081f"
      },
      "execution_count": null,
      "outputs": [
        {
          "output_type": "stream",
          "name": "stdout",
          "text": [
            "[ 4 10 18]\n"
          ]
        }
      ]
    },
    {
      "cell_type": "code",
      "source": [
        "# Division\n",
        "print(a / b)"
      ],
      "metadata": {
        "colab": {
          "base_uri": "https://localhost:8080/"
        },
        "id": "Y3XCkLadjrBj",
        "outputId": "84f5866d-5ad9-4224-dd9a-89bc0171bbb2"
      },
      "execution_count": null,
      "outputs": [
        {
          "output_type": "stream",
          "name": "stdout",
          "text": [
            "[0.25 0.4  0.5 ]\n"
          ]
        }
      ]
    },
    {
      "cell_type": "code",
      "source": [
        "# Floor division: it gives the round off value\n",
        "print(a // b)"
      ],
      "metadata": {
        "colab": {
          "base_uri": "https://localhost:8080/"
        },
        "id": "8SaH6KQbjuKO",
        "outputId": "df873dc7-fcc0-43f8-8a64-4db1d02d6e3c"
      },
      "execution_count": null,
      "outputs": [
        {
          "output_type": "stream",
          "name": "stdout",
          "text": [
            "[0 0 0]\n"
          ]
        }
      ]
    },
    {
      "cell_type": "code",
      "source": [
        "# Exponentiation or power\n",
        "print(a ** b)"
      ],
      "metadata": {
        "colab": {
          "base_uri": "https://localhost:8080/"
        },
        "id": "FN5qzKVGjzuX",
        "outputId": "96dde474-b4fb-40b6-d3df-bf834add58b6"
      },
      "execution_count": null,
      "outputs": [
        {
          "output_type": "stream",
          "name": "stdout",
          "text": [
            "[  1  32 729]\n"
          ]
        }
      ]
    },
    {
      "cell_type": "code",
      "source": [
        "# Module: return the remainder\n",
        "print(a % b)"
      ],
      "metadata": {
        "colab": {
          "base_uri": "https://localhost:8080/"
        },
        "id": "uSqJf9Otj7Ju",
        "outputId": "163a3e57-5e7f-48b7-c376-b32537e3edca"
      },
      "execution_count": null,
      "outputs": [
        {
          "output_type": "stream",
          "name": "stdout",
          "text": [
            "[1 2 3]\n"
          ]
        }
      ]
    },
    {
      "cell_type": "markdown",
      "source": [
        "## Aggregation"
      ],
      "metadata": {
        "id": "t-EVIUMEoB1j"
      }
    },
    {
      "cell_type": "markdown",
      "source": [
        "Aggregrate function is used when we want to sumarize the array into a single value like total, average, minimum, etc"
      ],
      "metadata": {
        "id": "hwu9f5IQp11S"
      }
    },
    {
      "cell_type": "code",
      "source": [
        "import numpy as np\n",
        "a = [10,20,30,40,50]\n",
        "np.sum(a)\n"
      ],
      "metadata": {
        "colab": {
          "base_uri": "https://localhost:8080/"
        },
        "id": "mGZZ6aghqMY0",
        "outputId": "0573e10b-dc16-4686-ca8a-f8785ab5f836"
      },
      "execution_count": 3,
      "outputs": [
        {
          "output_type": "execute_result",
          "data": {
            "text/plain": [
              "np.int64(150)"
            ]
          },
          "metadata": {},
          "execution_count": 3
        }
      ]
    },
    {
      "cell_type": "code",
      "source": [
        "# used to find the minimum value form the array\n",
        "np.min(a)"
      ],
      "metadata": {
        "colab": {
          "base_uri": "https://localhost:8080/"
        },
        "id": "-6_lXuAfqZPr",
        "outputId": "5476e211-4bd9-4f74-82f5-3201c8a0e580"
      },
      "execution_count": 4,
      "outputs": [
        {
          "output_type": "execute_result",
          "data": {
            "text/plain": [
              "np.int64(10)"
            ]
          },
          "metadata": {},
          "execution_count": 4
        }
      ]
    },
    {
      "cell_type": "code",
      "source": [
        "# used to find the maximum value from the arrray\n",
        "np.max(a)"
      ],
      "metadata": {
        "colab": {
          "base_uri": "https://localhost:8080/"
        },
        "id": "H4SUTmoHqcQ3",
        "outputId": "ff401c9a-b793-4f51-ad97-f5548d4bbfbe"
      },
      "execution_count": 5,
      "outputs": [
        {
          "output_type": "execute_result",
          "data": {
            "text/plain": [
              "np.int64(50)"
            ]
          },
          "metadata": {},
          "execution_count": 5
        }
      ]
    },
    {
      "cell_type": "code",
      "source": [
        "# used to get the mean from the array\n",
        "np.mean(a)"
      ],
      "metadata": {
        "colab": {
          "base_uri": "https://localhost:8080/"
        },
        "id": "PEw3d03-qeHx",
        "outputId": "cce9482c-f13a-4e7e-dde2-9cb35e5c08ac"
      },
      "execution_count": 6,
      "outputs": [
        {
          "output_type": "execute_result",
          "data": {
            "text/plain": [
              "np.float64(30.0)"
            ]
          },
          "metadata": {},
          "execution_count": 6
        }
      ]
    },
    {
      "cell_type": "code",
      "source": [
        "# used to get median from the array\n",
        "np.median(a)"
      ],
      "metadata": {
        "colab": {
          "base_uri": "https://localhost:8080/"
        },
        "id": "6pJMmLbgqgqc",
        "outputId": "c05872de-32da-48c2-ba59-f0063867d2f0"
      },
      "execution_count": 7,
      "outputs": [
        {
          "output_type": "execute_result",
          "data": {
            "text/plain": [
              "np.float64(30.0)"
            ]
          },
          "metadata": {},
          "execution_count": 7
        }
      ]
    },
    {
      "cell_type": "code",
      "source": [
        "print(\"Hello\")"
      ],
      "metadata": {
        "colab": {
          "base_uri": "https://localhost:8080/"
        },
        "id": "517VGV-wq1m8",
        "outputId": "52ce495a-0940-484f-9738-15fa07c21b8c"
      },
      "execution_count": 9,
      "outputs": [
        {
          "output_type": "stream",
          "name": "stdout",
          "text": [
            "Hello\n"
          ]
        }
      ]
    },
    {
      "cell_type": "markdown",
      "source": [
        "# Indexing"
      ],
      "metadata": {
        "id": "PuG4hUd8rFSN"
      }
    },
    {
      "cell_type": "markdown",
      "source": [
        "Indexing is used to access or modify the array if we want some part of an array then we can take it using indexing"
      ],
      "metadata": {
        "id": "uKIYAeE3rG8v"
      }
    },
    {
      "cell_type": "code",
      "source": [
        "# accessing the element from particualr index position\n",
        "a[1]"
      ],
      "metadata": {
        "colab": {
          "base_uri": "https://localhost:8080/"
        },
        "id": "yKxn-EZwq2sG",
        "outputId": "82809dec-db70-4559-8e97-0d64ff52ef1e"
      },
      "execution_count": 10,
      "outputs": [
        {
          "output_type": "execute_result",
          "data": {
            "text/plain": [
              "20"
            ]
          },
          "metadata": {},
          "execution_count": 10
        }
      ]
    },
    {
      "cell_type": "code",
      "source": [
        "# accessing element from the 1st position to 3rd position\n",
        "a[1:3]"
      ],
      "metadata": {
        "colab": {
          "base_uri": "https://localhost:8080/"
        },
        "id": "3q3TgtEFrXoH",
        "outputId": "24b2de26-ddae-4071-ed28-c8374fa554c1"
      },
      "execution_count": 12,
      "outputs": [
        {
          "output_type": "execute_result",
          "data": {
            "text/plain": [
              "[20, 30]"
            ]
          },
          "metadata": {},
          "execution_count": 12
        }
      ]
    },
    {
      "cell_type": "code",
      "source": [
        "# from 1st index psoition it will start and it will go till last element\n",
        "a[1:]"
      ],
      "metadata": {
        "colab": {
          "base_uri": "https://localhost:8080/"
        },
        "id": "juVoL3YsrmSW",
        "outputId": "6ab25ecd-2150-43df-ba6e-b4196f90c965"
      },
      "execution_count": 13,
      "outputs": [
        {
          "output_type": "execute_result",
          "data": {
            "text/plain": [
              "[20, 30, 40, 50]"
            ]
          },
          "metadata": {},
          "execution_count": 13
        }
      ]
    },
    {
      "cell_type": "code",
      "source": [
        "a[:]\n",
        "# it will start from zero index and it will go till last index"
      ],
      "metadata": {
        "colab": {
          "base_uri": "https://localhost:8080/"
        },
        "id": "mopyTLlzrvsr",
        "outputId": "c8b00bfc-15f2-4a8b-92ff-28543a259e99"
      },
      "execution_count": 14,
      "outputs": [
        {
          "output_type": "execute_result",
          "data": {
            "text/plain": [
              "[10, 20, 30, 40, 50]"
            ]
          },
          "metadata": {},
          "execution_count": 14
        }
      ]
    },
    {
      "cell_type": "markdown",
      "source": [
        "# Reshaping"
      ],
      "metadata": {
        "id": "PUh0DlXMtzCd"
      }
    },
    {
      "cell_type": "markdown",
      "source": [
        "Reshaping means changing the shape of an array without changing the data"
      ],
      "metadata": {
        "id": "s5PAf_mEt0cm"
      }
    },
    {
      "cell_type": "code",
      "source": [
        "# Suppose we are having 1d array with 12 numbers and we want to change its shape(rows & column) like we want 3 rows and 4 column so we can make that."
      ],
      "metadata": {
        "id": "PdMIpcnpt5Td"
      },
      "execution_count": null,
      "outputs": []
    },
    {
      "cell_type": "code",
      "source": [
        "a = np.array([1,2,3,4,5,6,7,8,9,10,11,12])\n",
        "b = a.reshape(3,4)\n",
        "print(b)"
      ],
      "metadata": {
        "colab": {
          "base_uri": "https://localhost:8080/"
        },
        "id": "50j9083QuVBD",
        "outputId": "d2cf6dd6-9865-42d5-aa19-de98ef82a78b"
      },
      "execution_count": 19,
      "outputs": [
        {
          "output_type": "stream",
          "name": "stdout",
          "text": [
            "[[ 1  2  3  4]\n",
            " [ 5  6  7  8]\n",
            " [ 9 10 11 12]]\n"
          ]
        }
      ]
    },
    {
      "cell_type": "code",
      "source": [],
      "metadata": {
        "id": "VJILJpEoug5z"
      },
      "execution_count": null,
      "outputs": []
    }
  ]
}