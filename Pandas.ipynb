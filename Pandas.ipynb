{
  "nbformat": 4,
  "nbformat_minor": 0,
  "metadata": {
    "colab": {
      "provenance": [],
      "authorship_tag": "ABX9TyMirD+wGxdoj9gtiqRl9Ypi",
      "include_colab_link": true
    },
    "kernelspec": {
      "name": "python3",
      "display_name": "Python 3"
    },
    "language_info": {
      "name": "python"
    }
  },
  "cells": [
    {
      "cell_type": "markdown",
      "metadata": {
        "id": "view-in-github",
        "colab_type": "text"
      },
      "source": [
        "<a href=\"https://colab.research.google.com/github/ShaazCode/Python-Libraries---EDA/blob/main/Pandas.ipynb\" target=\"_parent\"><img src=\"https://colab.research.google.com/assets/colab-badge.svg\" alt=\"Open In Colab\"/></a>"
      ]
    },
    {
      "cell_type": "markdown",
      "source": [
        "# Pandas"
      ],
      "metadata": {
        "id": "fWbAJRtc2Sr9"
      }
    },
    {
      "cell_type": "markdown",
      "source": [
        "Pandas it is used to store the data just like a excel but in the python\n",
        "1. **Read the Data:** We can read the data using from different different files like Excel, csv, SQL, json, etc with single line of code\n",
        "\n",
        "2. **Store the data:** Using pandas we can store the data with the help of data Frame.\n",
        "\n",
        "3. **Clean and fix the data :** It means remove missing values, rename column , fixing the proper value, filter, etc\n",
        "\n",
        "4. **Analyze data:** we can calculate average, sums, counts, sort and filter the data.\n",
        "\n"
      ],
      "metadata": {
        "id": "Mi58kx-92Vrn"
      }
    },
    {
      "cell_type": "markdown",
      "source": [
        "In Pandas we are having 2 Data types\n",
        "1. Series\n",
        "2. DataFrame"
      ],
      "metadata": {
        "id": "n6CW9JYR5CTe"
      }
    },
    {
      "cell_type": "markdown",
      "source": [
        "**Series**\n",
        "Series is like a one column of a data. Series has 2 things\n",
        "1. Value: The actual data itself\n",
        "2. Index: label for each value like row numbr or custom value"
      ],
      "metadata": {
        "id": "I4fluprH7iem"
      }
    },
    {
      "cell_type": "code",
      "execution_count": 1,
      "metadata": {
        "colab": {
          "base_uri": "https://localhost:8080/"
        },
        "id": "I1GwXxIkv1dU",
        "outputId": "c8f5f259-3832-476b-9c91-f69cc620cf00"
      },
      "outputs": [
        {
          "output_type": "stream",
          "name": "stdout",
          "text": [
            "0    10\n",
            "1    20\n",
            "2    30\n",
            "3    40\n",
            "4    50\n",
            "dtype: int64\n"
          ]
        }
      ],
      "source": [
        "import pandas as pd\n",
        "\n",
        "# create series\n",
        "num = pd.Series([10,20,30,40,50])\n",
        "print(num)"
      ]
    },
    {
      "cell_type": "code",
      "source": [
        "# In above example we just had directly created the series but now we will give the index also with it\n",
        "\n",
        "ages = pd.Series([10,20,30,40,50], index=['A', 'B', 'C', 'D', 'E'])\n",
        "# so here in this example we had labeled the value with index\n",
        "print(ages)"
      ],
      "metadata": {
        "colab": {
          "base_uri": "https://localhost:8080/"
        },
        "id": "U2pNqpmE8cHs",
        "outputId": "7b7f64c0-38d7-4e0a-d2de-1030c5c83fe9"
      },
      "execution_count": 2,
      "outputs": [
        {
          "output_type": "stream",
          "name": "stdout",
          "text": [
            "A    10\n",
            "B    20\n",
            "C    30\n",
            "D    40\n",
            "E    50\n",
            "dtype: int64\n"
          ]
        }
      ]
    },
    {
      "cell_type": "markdown",
      "source": [
        "**2. DataFrames**\n",
        "Dataframe is a collection of rows and column. It creates a table (rows and column)"
      ],
      "metadata": {
        "id": "RoiDUtvo9PSF"
      }
    },
    {
      "cell_type": "code",
      "source": [
        "# creating data frame\n",
        "data = {\n",
        "    \"column_one\": [10,20,30,40,50],\n",
        "    \"column_two\": ['A', 'B', 'C', 'D', 'D']\n",
        "}\n",
        "\n",
        "dframe = pd.DataFrame(data)\n",
        "print(dframe)"
      ],
      "metadata": {
        "colab": {
          "base_uri": "https://localhost:8080/"
        },
        "id": "OyxKJwDN8upQ",
        "outputId": "3947e802-0ca5-4100-8f77-bc110a18cad0"
      },
      "execution_count": 4,
      "outputs": [
        {
          "output_type": "stream",
          "name": "stdout",
          "text": [
            "   column_one column_two\n",
            "0          10          A\n",
            "1          20          B\n",
            "2          30          C\n",
            "3          40          D\n",
            "4          50          D\n"
          ]
        }
      ]
    },
    {
      "cell_type": "code",
      "source": [
        "# creating data frame with index\n",
        "data = {\n",
        "    \"column_one\": [10,20,30,40,50],\n",
        "    \"column_two\": ['A', 'B', 'C', 'D', 'D']\n",
        "}\n",
        "\n",
        "dframe = pd.DataFrame(data, index= [\"one\", \"two\", \"three\", \"four\", \"five\"])\n",
        "print(dframe)"
      ],
      "metadata": {
        "colab": {
          "base_uri": "https://localhost:8080/"
        },
        "id": "bkCZpKTT-I5H",
        "outputId": "1d5a7a7d-184e-44bc-f2c5-0478113ad741"
      },
      "execution_count": 5,
      "outputs": [
        {
          "output_type": "stream",
          "name": "stdout",
          "text": [
            "       column_one column_two\n",
            "one            10          A\n",
            "two            20          B\n",
            "three          30          C\n",
            "four           40          D\n",
            "five           50          D\n"
          ]
        }
      ]
    }
  ]
}